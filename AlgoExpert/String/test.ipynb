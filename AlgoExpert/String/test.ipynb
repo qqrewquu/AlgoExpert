{
 "cells": [
  {
   "cell_type": "code",
   "execution_count": 1,
   "metadata": {},
   "outputs": [
    {
     "data": {
      "text/plain": [
       "'4A3B2C1D1E'"
      ]
     },
     "execution_count": 1,
     "metadata": {},
     "output_type": "execute_result"
    }
   ],
   "source": [
    "def runLengthEncoding(string):\n",
    "\n",
    "\tresultList = []\n",
    "\tcount = 1\n",
    "\tif string == \" \":\n",
    "\t\treturn str(count) + \" \"\n",
    "\t\n",
    "\n",
    "\t\n",
    "\tfor i in range(0,len(string)-1):\n",
    "\t\tcurrentChar = string[i]\n",
    "\t\tnextChar = string[i+1]\n",
    "\t\t\n",
    "\t\tif currentChar != nextChar:\n",
    "\t\t\tresultList.append(str(count) + currentChar) \n",
    "\t\t\tcount = 0\n",
    "\t\n",
    "\t\tif count == 9:\n",
    "\t\t\tresultList.append(str(count) + currentChar)\n",
    "\t\t\tcount = 0\n",
    "\t\t\t# continue \n",
    "\t\t\t\n",
    "\n",
    "\t\t# handle last two character since the index would stop at the last second position of string\n",
    "\t\t\n",
    "\t\t# case 1) last second != last one \n",
    "\t\t\n",
    "\t\tif i == len(string) - 2 and currentChar == nextChar: \n",
    "\t\t\tresultList.append(str(count+1) + currentChar)\n",
    "\n",
    "\t\t# case 2) last second == last one\n",
    "\n",
    "\t\tif i == len(string) - 2 and currentChar != nextChar: \n",
    "\t\t\tresultList.append(str(count+1) + nextChar)\n",
    "\t\t\n",
    "\t\tcount += 1\n",
    "\t\t\n",
    "\treturn ''.join(resultList)\n",
    "\n",
    "res = runLengthEncoding('AAAABBBCCDE')\n",
    "res"
   ]
  },
  {
   "cell_type": "code",
   "execution_count": null,
   "metadata": {},
   "outputs": [],
   "source": []
  }
 ],
 "metadata": {
  "interpreter": {
   "hash": "25e6644f2bfc6915018fb0621a98c7d8608c820ae5f0fe3d382282b9263a6133"
  },
  "kernelspec": {
   "display_name": "Python 3.7.12",
   "language": "python",
   "name": "python3"
  },
  "language_info": {
   "codemirror_mode": {
    "name": "ipython",
    "version": 3
   },
   "file_extension": ".py",
   "mimetype": "text/x-python",
   "name": "python",
   "nbconvert_exporter": "python",
   "pygments_lexer": "ipython3",
   "version": "3.7.12"
  },
  "orig_nbformat": 4
 },
 "nbformat": 4,
 "nbformat_minor": 2
}
