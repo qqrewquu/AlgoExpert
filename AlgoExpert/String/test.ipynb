{
 "cells": [
  {
   "cell_type": "code",
   "execution_count": 14,
   "metadata": {},
   "outputs": [
    {
     "name": "stdout",
     "output_type": "stream",
     "text": [
      "merge [[1, 104]]\n",
      "[[1, 104]]\n",
      "[[1, 105]]\n"
     ]
    },
    {
     "data": {
      "text/plain": [
       "[[1, 105]]"
      ]
     },
     "execution_count": 14,
     "metadata": {},
     "output_type": "execute_result"
    }
   ],
   "source": [
    "def mergeOverlappingIntervals(intervals):\n",
    "    # edge case\t\n",
    "    if len(intervals) == 0:\n",
    "        return [[]]\n",
    "    #sort nlogn time\n",
    "    sortedIntervals = sorted(intervals, key = lambda x:x[0])\n",
    "    currentInterval = sortedIntervals[0]\n",
    "    mergedIntervals = []\n",
    "    mergedIntervals.append(currentInterval)\n",
    "\n",
    "    print('merge', mergedIntervals )\n",
    "\n",
    "    for interval in sortedIntervals:\n",
    "        _,currSecVal = currentInterval\n",
    "        nextFirVal,nextSecVal = interval\n",
    "        if currSecVal >= nextFirVal:\n",
    "            currentInterval[1] = max(currSecVal,nextSecVal)\n",
    "            print(mergedIntervals)\n",
    "\n",
    "        else:\n",
    "            currentInterval = interval\n",
    "            mergedIntervals.append(currentInterval)\n",
    "\n",
    "    # print(mergedIntervals)\n",
    "\n",
    "    return mergedIntervals\n",
    "\n",
    "\n",
    "array = [[1,104],[100,105]]\n",
    "\n",
    "mergeOverlappingIntervals(array)\n",
    "\n",
    "\n",
    "\n",
    "\n"
   ]
  },
  {
   "cell_type": "code",
   "execution_count": null,
   "metadata": {},
   "outputs": [],
   "source": []
  }
 ],
 "metadata": {
  "interpreter": {
   "hash": "25e6644f2bfc6915018fb0621a98c7d8608c820ae5f0fe3d382282b9263a6133"
  },
  "kernelspec": {
   "display_name": "Python 3.7.12",
   "language": "python",
   "name": "python3"
  },
  "language_info": {
   "codemirror_mode": {
    "name": "ipython",
    "version": 3
   },
   "file_extension": ".py",
   "mimetype": "text/x-python",
   "name": "python",
   "nbconvert_exporter": "python",
   "pygments_lexer": "ipython3",
   "version": "3.7.12"
  },
  "orig_nbformat": 4
 },
 "nbformat": 4,
 "nbformat_minor": 2
}
