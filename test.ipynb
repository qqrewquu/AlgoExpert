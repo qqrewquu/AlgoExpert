{
 "cells": [
  {
   "cell_type": "code",
   "execution_count": 2,
   "metadata": {},
   "outputs": [
    {
     "name": "stdout",
     "output_type": "stream",
     "text": [
      "[0, 1]\n"
     ]
    },
    {
     "data": {
      "text/plain": [
       "'a'"
      ]
     },
     "execution_count": 2,
     "metadata": {},
     "output_type": "execute_result"
    }
   ],
   "source": [
    "\n",
    "# O(n^2) time\n",
    "# O(n) space: ultimately still need to slice the longest palindromic substring out of the string, \n",
    "#             and this longest palindromic substring can be as large as the string itself, \n",
    "#\t\t\t  in the worst case.\n",
    "\n",
    "def longestPalindromicSubstring(string):\n",
    "\t\n",
    "\t# declare a list including start iddex and end index that including the longest\n",
    "\t# palindromic string \n",
    "\tbestLongest  = [0,1]\n",
    "\t\n",
    "\t# loop through the string, and move the slider to find the longest palindromic substring\n",
    "\t\n",
    "\tfor i in range(1,len(string)):\n",
    "\t\t# get palindrmoc from left and right idx of current val\n",
    "\t\tvalOne = getPadlin(i-1,i+1,string)\n",
    "\t\t# get palindrmoc from left idx of current val and current val \n",
    "\t\t# this is to handle 'Sample Input' cases: 'abaxyzzyxf'\n",
    "\t\t# when slide to either first or second 'z', if using above getPadlin function\n",
    "\t\t# it will never return the longest padlin. But this padlin function will handle \n",
    "\t\t# such case\n",
    "\t\tvalTwo = getPadlin(i-1,i,string)\n",
    "\t\t\n",
    "\t\t# return either valOne or valTwo whose absolute differenece value is larger\n",
    "\t\tcurrentLongest = max(valOne,valTwo,key=lambda x: abs(x[1] - x[0]))\n",
    "\t\t# return either previus bestLongest  or currentLongest \n",
    "\t\t# whose absolute differenece value is larger\n",
    "\t\tbestLongest = max(bestLongest,currentLongest,key=lambda x: abs(x[1] - x[0]))\n",
    "\n",
    "\tprint(bestLongest)\n",
    "\treturn string[bestLongest[0]:bestLongest[1]]\n",
    "\n",
    "# helper fucntion:\n",
    "# expand left and right index to find longest palindromic index\n",
    "def getPadlin(leftPointer,rightPointer,string):\n",
    "\twhile leftPointer >= 0 and rightPointer <= len(string)-1:\n",
    "\t\tleftValue = string[leftPointer]\n",
    "\t\trightValue = string[rightPointer]\n",
    "\n",
    "\t\tif leftValue != rightValue:\n",
    "\t\t\tbreak\n",
    "\t\telse:\n",
    "\t\t\tleftPointer -= 1\n",
    "\t\t\trightPointer +=1\n",
    "\t\n",
    "\t# need left pointer to plus one because left pointer will \n",
    "\t# move left one position away from position we should return(to jump out of while loop)\n",
    "\t# so, need to add one to move right one position\n",
    "\t# rightPointer no need to move left one position because\n",
    "\t# when we return the longest value index from last line of main()\n",
    "\t# the right value will be return as value-1. e.g. lis[1:3] will only return \n",
    "\t# 1 - 2 posiition value, not 3\n",
    "\treturn [leftPointer+1,rightPointer]\n",
    "\n",
    "\n",
    "longestPalindromicSubstring(\"ac\")\n"
   ]
  },
  {
   "cell_type": "code",
   "execution_count": 2,
   "metadata": {},
   "outputs": [
    {
     "data": {
      "text/plain": [
       "[2, 3]"
      ]
     },
     "execution_count": 2,
     "metadata": {},
     "output_type": "execute_result"
    }
   ],
   "source": [
    "lis = [2,3,4]\n",
    "\n",
    "lis.pop()\n",
    "\n",
    "lis"
   ]
  },
  {
   "cell_type": "code",
   "execution_count": null,
   "metadata": {},
   "outputs": [],
   "source": []
  }
 ],
 "metadata": {
  "interpreter": {
   "hash": "25e6644f2bfc6915018fb0621a98c7d8608c820ae5f0fe3d382282b9263a6133"
  },
  "kernelspec": {
   "display_name": "Python 3.7.12",
   "language": "python",
   "name": "python3"
  },
  "language_info": {
   "codemirror_mode": {
    "name": "ipython",
    "version": 3
   },
   "file_extension": ".py",
   "mimetype": "text/x-python",
   "name": "python",
   "nbconvert_exporter": "python",
   "pygments_lexer": "ipython3",
   "version": "3.7.12"
  },
  "orig_nbformat": 4
 },
 "nbformat": 4,
 "nbformat_minor": 2
}
