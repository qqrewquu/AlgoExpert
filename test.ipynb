{
 "cells": [
  {
   "cell_type": "code",
   "execution_count": 38,
   "metadata": {},
   "outputs": [
    {
     "name": "stdout",
     "output_type": "stream",
     "text": [
      "#### i #### = 0\n",
      "* count * = 0\n",
      "currentSum = 0\n",
      "nums[leftIdx-1], nums[leftIdx] = (0, 0)\n",
      "[[0, -2, 2]]\n",
      "\n",
      "#### i #### = 1\n",
      "* count * = 0\n",
      "currentSum = 2\n",
      "\n",
      "* count * = 1\n",
      "currentSum = 2\n",
      "\n",
      "[[0, -2, 2]]\n"
     ]
    }
   ],
   "source": [
    "nums = [-2, 0, 0, 2, 2]\n",
    "        #i     l  r\n",
    "nums.sort()\n",
    "resultList = []\n",
    "for i in range(len(nums)):\n",
    "   \n",
    "    if nums[i] > 0:\n",
    "        break\n",
    "    if i!=0 and nums[i] == nums[i - 1]:\n",
    "        continue   \n",
    "    leftIdx = i+1\n",
    "    rightIdx = len(nums)-1\n",
    "    # print(f'before while loop leftIdx, leftIdx-1,rightIdx = {leftIdx, leftIdx-1,rightIdx}')\n",
    "\n",
    "    # print(f'before while loop nums[leftIdx], nums[leftIdx-1], nums[rightIdx] = {nums[leftIdx], nums[leftIdx-1],nums[rightIdx]}')\n",
    "    count = 0\n",
    "    print(f'#### i #### = {i}')\n",
    "    while leftIdx < rightIdx:\n",
    "        print(f'* count * = {count}')\n",
    "\n",
    "        currentSum = nums[leftIdx] + nums[i] + nums[rightIdx]\n",
    "        print(f'currentSum = {currentSum}')\n",
    "        \n",
    "        if currentSum == 0:\n",
    "            resultList.append([nums[leftIdx],nums[i], nums[rightIdx]])\n",
    "            leftIdx += 1\n",
    "            rightIdx -= 1\n",
    "            print(f'nums[leftIdx-1], nums[leftIdx] = {nums[leftIdx-1], nums[leftIdx]}')\n",
    "            print(resultList)\n",
    "\n",
    "            while leftIdx <  rightIdx and nums[leftIdx] == nums[leftIdx-1]:\n",
    "                leftIdx += 1               \n",
    "        elif currentSum < 0:\n",
    "            leftIdx += 1\n",
    "            \n",
    "        else:\n",
    "            rightIdx -= 1\n",
    "        count += 1\n",
    "        print()\n",
    "    \n",
    "print(resultList)"
   ]
  },
  {
   "cell_type": "code",
   "execution_count": null,
   "metadata": {},
   "outputs": [],
   "source": []
  }
 ],
 "metadata": {
  "interpreter": {
   "hash": "25e6644f2bfc6915018fb0621a98c7d8608c820ae5f0fe3d382282b9263a6133"
  },
  "kernelspec": {
   "display_name": "Python 3.7.12",
   "language": "python",
   "name": "python3"
  },
  "language_info": {
   "codemirror_mode": {
    "name": "ipython",
    "version": 3
   },
   "file_extension": ".py",
   "mimetype": "text/x-python",
   "name": "python",
   "nbconvert_exporter": "python",
   "pygments_lexer": "ipython3",
   "version": "3.7.12"
  },
  "orig_nbformat": 4
 },
 "nbformat": 4,
 "nbformat_minor": 2
}
