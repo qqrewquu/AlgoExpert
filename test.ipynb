{
 "cells": [
  {
   "cell_type": "code",
   "execution_count": 2,
   "metadata": {},
   "outputs": [
    {
     "name": "stdout",
     "output_type": "stream",
     "text": [
      "[0, 1]\n"
     ]
    },
    {
     "data": {
      "text/plain": [
       "'a'"
      ]
     },
     "execution_count": 2,
     "metadata": {},
     "output_type": "execute_result"
    }
   ],
   "source": [
    "\n",
    "# O(n^2) time\n",
    "# O(n) space: ultimately still need to slice the longest palindromic substring out of the string, \n",
    "#             and this longest palindromic substring can be as large as the string itself, \n",
    "#\t\t\t  in the worst case.\n",
    "\n",
    "def longestPalindromicSubstring(string):\n",
    "\t\n",
    "\t# declare a list including start iddex and end index that including the longest\n",
    "\t# palindromic string \n",
    "\tbestLongest  = [0,1]\n",
    "\t\n",
    "\t# loop through the string, and move the slider to find the longest palindromic substring\n",
    "\t\n",
    "\tfor i in range(1,len(string)):\n",
    "\t\t# get palindrmoc from left and right idx of current val\n",
    "\t\tvalOne = getPadlin(i-1,i+1,string)\n",
    "\t\t# get palindrmoc from left idx of current val and current val \n",
    "\t\t# this is to handle 'Sample Input' cases: 'abaxyzzyxf'\n",
    "\t\t# when slide to either first or second 'z', if using above getPadlin function\n",
    "\t\t# it will never return the longest padlin. But this padlin function will handle \n",
    "\t\t# such case\n",
    "\t\tvalTwo = getPadlin(i-1,i,string)\n",
    "\t\t\n",
    "\t\t# return either valOne or valTwo whose absolute differenece value is larger\n",
    "\t\tcurrentLongest = max(valOne,valTwo,key=lambda x: abs(x[1] - x[0]))\n",
    "\t\t# return either previus bestLongest  or currentLongest \n",
    "\t\t# whose absolute differenece value is larger\n",
    "\t\tbestLongest = max(bestLongest,currentLongest,key=lambda x: abs(x[1] - x[0]))\n",
    "\n",
    "\tprint(bestLongest)\n",
    "\treturn string[bestLongest[0]:bestLongest[1]]\n",
    "\n",
    "# helper fucntion:\n",
    "# expand left and right index to find longest palindromic index\n",
    "def getPadlin(leftPointer,rightPointer,string):\n",
    "\twhile leftPointer >= 0 and rightPointer <= len(string)-1:\n",
    "\t\tleftValue = string[leftPointer]\n",
    "\t\trightValue = string[rightPointer]\n",
    "\n",
    "\t\tif leftValue != rightValue:\n",
    "\t\t\tbreak\n",
    "\t\telse:\n",
    "\t\t\tleftPointer -= 1\n",
    "\t\t\trightPointer +=1\n",
    "\t\n",
    "\t# need left pointer to plus one because left pointer will \n",
    "\t# move left one position away from position we should return(to jump out of while loop)\n",
    "\t# so, need to add one to move right one position\n",
    "\t# rightPointer no need to move left one position because\n",
    "\t# when we return the longest value index from last line of main()\n",
    "\t# the right value will be return as value-1. e.g. lis[1:3] will only return \n",
    "\t# 1 - 2 posiition value, not 3\n",
    "\treturn [leftPointer+1,rightPointer]\n",
    "\n",
    "\n",
    "longestPalindromicSubstring(\"ac\")\n"
   ]
  },
  {
   "cell_type": "code",
   "execution_count": 6,
   "metadata": {},
   "outputs": [],
   "source": [
    "from collections import deque\n",
    "\n",
    "queue_in = deque()\n",
    "\n",
    "\n",
    "queue_in.append(1)\n",
    "queue_in.append(2)\n",
    "queue_in.append(3)\n",
    "\n"
   ]
  },
  {
   "cell_type": "code",
   "execution_count": 4,
   "metadata": {},
   "outputs": [
    {
     "name": "stdout",
     "output_type": "stream",
     "text": [
      "1\n",
      "2\n"
     ]
    }
   ],
   "source": [
    "for i in range(len(queue_in)-1):\n",
    "    print(queue_in.popleft())"
   ]
  },
  {
   "cell_type": "code",
   "execution_count": 7,
   "metadata": {},
   "outputs": [
    {
     "data": {
      "text/plain": [
       "3"
      ]
     },
     "execution_count": 7,
     "metadata": {},
     "output_type": "execute_result"
    }
   ],
   "source": [
    "len(queue_in)"
   ]
  },
  {
   "cell_type": "code",
   "execution_count": 8,
   "metadata": {},
   "outputs": [
    {
     "name": "stdout",
     "output_type": "stream",
     "text": [
      "0\n"
     ]
    }
   ],
   "source": [
    "for i in range(1):\n",
    "    print(i)"
   ]
  },
  {
   "cell_type": "code",
   "execution_count": 18,
   "metadata": {},
   "outputs": [
    {
     "name": "stdout",
     "output_type": "stream",
     "text": [
      "[')']\n",
      "[')']\n"
     ]
    },
    {
     "data": {
      "text/plain": [
       "False"
      ]
     },
     "execution_count": 18,
     "metadata": {},
     "output_type": "execute_result"
    }
   ],
   "source": [
    "def isValid( s):\n",
    "\n",
    "    stack = []\n",
    "    \n",
    "    \n",
    "    for char in s:\n",
    "        # print(char)\n",
    "        if char == \"[\":\n",
    "            stack.append(\"]\")\n",
    "        elif char == \"(\":\n",
    "            stack.append(\")\")\n",
    "            \n",
    "        elif char == \"{\":\n",
    "            stack.append(\"}\")\n",
    "            \n",
    "        elif len(stack) == 0: #or #stack[-1] != char:\n",
    "            return False \n",
    "        # else:\n",
    "        #     stack.pop()\n",
    "        print(stack)\n",
    "            \n",
    "            \n",
    "    # print(stack)\n",
    "    return True if len(stack)==0 else False\n",
    "    \n",
    "            \n",
    "isValid(\"(]\")"
   ]
  },
  {
   "cell_type": "code",
   "execution_count": 22,
   "metadata": {},
   "outputs": [
    {
     "name": "stdout",
     "output_type": "stream",
     "text": [
      "strList =  deque(['a', 'b', 'b', 'b', 'a', 'b', 'a', 'a', 'a'])\n"
     ]
    },
    {
     "data": {
      "text/plain": [
       "'ababa'"
      ]
     },
     "execution_count": 22,
     "metadata": {},
     "output_type": "execute_result"
    }
   ],
   "source": [
    "from collections import deque\n",
    "\n",
    "def removeDuplicates(s) :\n",
    "    \n",
    "    strList = deque(list(s))\n",
    "    stack_in = strList.copy()\n",
    "    stack_out = []\n",
    "    \n",
    "    # strList = [a,b,a,a,a]\n",
    "\n",
    "    # stack_out = [a,b]\n",
    "    \n",
    "    print(\"strList = \",strList)\n",
    "    for char in strList:\n",
    "        if char not in stack_out:\n",
    "            stack_out.append(stack_in.popleft())\n",
    "            \n",
    "        elif stack_out[-1] == char:\n",
    "            stack_out.pop()\n",
    "            stack_in.popleft()\n",
    "            \n",
    "        elif char in stack_out and stack_out[-1] != char:\n",
    "            stack_out.append(stack_in.popleft())\n",
    "\n",
    "            \n",
    "            \n",
    "        # print(stack_out)\n",
    "            \n",
    "    return ''.join(stack_out)\n",
    "\n",
    "removeDuplicates(\"abbbabaaa\")"
   ]
  },
  {
   "cell_type": "code",
   "execution_count": 3,
   "metadata": {},
   "outputs": [
    {
     "data": {
      "text/plain": [
       "'2'"
      ]
     },
     "execution_count": 3,
     "metadata": {},
     "output_type": "execute_result"
    }
   ],
   "source": [
    "a = '13'\n",
    "\n",
    "b = '5'\n",
    "\n",
    "str(eval(a + '//' + b ))\n"
   ]
  },
  {
   "cell_type": "code",
   "execution_count": 10,
   "metadata": {},
   "outputs": [
    {
     "name": "stdout",
     "output_type": "stream",
     "text": [
      "[22]\n"
     ]
    },
    {
     "data": {
      "text/plain": [
       "22"
      ]
     },
     "execution_count": 10,
     "metadata": {},
     "output_type": "execute_result"
    }
   ],
   "source": [
    "def evalRPN(tokens):\n",
    "    operands = \"+-*/\"\n",
    "    stack = []\n",
    "    \n",
    "    for item in tokens:\n",
    "        if item not in operands:\n",
    "            stack.append(item)\n",
    "            \n",
    "        else:\n",
    "            num1 = stack.pop() \n",
    "            num2 = stack.pop()\n",
    "            res = int(eval(str(num2) + item + str(num1)))\n",
    "            stack.append(res)\n",
    "            \n",
    "    print(stack)\n",
    "    return stack.pop()\n",
    "\n",
    "\n",
    "evalRPN([\"10\",\"6\",\"9\",\"3\",\"+\",\"-11\",\"*\",\"/\",\"*\",\"17\",\"+\",\"5\",\"+\"])"
   ]
  },
  {
   "cell_type": "code",
   "execution_count": 9,
   "metadata": {},
   "outputs": [
    {
     "data": {
      "text/plain": [
       "0"
      ]
     },
     "execution_count": 9,
     "metadata": {},
     "output_type": "execute_result"
    }
   ],
   "source": [
    "int(6/(-132))"
   ]
  },
  {
   "cell_type": "code",
   "execution_count": null,
   "metadata": {},
   "outputs": [],
   "source": []
  }
 ],
 "metadata": {
  "interpreter": {
   "hash": "25e6644f2bfc6915018fb0621a98c7d8608c820ae5f0fe3d382282b9263a6133"
  },
  "kernelspec": {
   "display_name": "Python 3.7.12",
   "language": "python",
   "name": "python3"
  },
  "language_info": {
   "codemirror_mode": {
    "name": "ipython",
    "version": 3
   },
   "file_extension": ".py",
   "mimetype": "text/x-python",
   "name": "python",
   "nbconvert_exporter": "python",
   "pygments_lexer": "ipython3",
   "version": "3.7.12"
  },
  "orig_nbformat": 4
 },
 "nbformat": 4,
 "nbformat_minor": 2
}
